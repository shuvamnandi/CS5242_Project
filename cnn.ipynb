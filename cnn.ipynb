{
 "cells": [
  {
   "cell_type": "code",
   "execution_count": 20,
   "id": "802f160d",
   "metadata": {},
   "outputs": [],
   "source": [
    "import torch\n",
    "import torch.nn as nn\n",
    "import torch.nn.functional as F\n",
    "import torch.optim as optim\n",
    "from random import randint\n",
    "import time"
   ]
  },
  {
   "cell_type": "code",
   "execution_count": 21,
   "id": "abcff436",
   "metadata": {},
   "outputs": [
    {
     "name": "stdout",
     "output_type": "stream",
     "text": [
      "torch.Size([3861, 28, 28]) torch.Size([3861])\n",
      "torch.Size([1644, 28, 28]) torch.Size([1644])\n"
     ]
    }
   ],
   "source": [
    "data_path='dataset/tensorized_data/'\n",
    "\n",
    "train_data_bw=torch.load(data_path+'training_data_bw.pt').squeeze()\n",
    "train_label_bw=torch.load(data_path+'training_labels_bw.pt').squeeze()\n",
    "test_data_bw=torch.load(data_path+'testing_data_bw.pt').squeeze()\n",
    "test_label_bw=torch.load(data_path+'testing_labels_bw.pt').squeeze()\n",
    "\n",
    "print(train_data_bw.size(), train_label_bw.size())\n",
    "print(test_data_bw.size(), test_label_bw.size())"
   ]
  },
  {
   "cell_type": "code",
   "execution_count": 22,
   "id": "d4df7580",
   "metadata": {},
   "outputs": [
    {
     "name": "stdout",
     "output_type": "stream",
     "text": [
      "tensor(0.4084)\n",
      "tensor(0.2522)\n"
     ]
    }
   ],
   "source": [
    "mean= train_data_bw.mean()\n",
    "print(mean)\n",
    "std= train_data_bw.std()\n",
    "print(std)"
   ]
  },
  {
   "cell_type": "code",
   "execution_count": 23,
   "id": "2c8ab482",
   "metadata": {},
   "outputs": [],
   "source": [
    "class convnet_bw(nn.Module):\n",
    "\n",
    "    def __init__(self):\n",
    "\n",
    "        super(convnet_bw, self).__init__()\n",
    "\n",
    "        self.conv1 = nn.Conv2d(1,   50,  kernel_size=3,  padding=1 )\n",
    "        \n",
    "        self.pool1  = nn.MaxPool2d(2,2)\n",
    "        \n",
    "        self.conv2 = nn.Conv2d(50,  100,  kernel_size=3,  padding=1 )\n",
    "        \n",
    "        self.pool2 = nn.MaxPool2d(2,2)\n",
    "        \n",
    "        self.linear1 = nn.Linear(4900, 100)\n",
    "        \n",
    "        self.linear2 = nn.Linear(100,2)\n",
    "\n",
    "\n",
    "    def forward(self, x):\n",
    "\n",
    "        x = self.conv1(x)\n",
    "        x = F.relu(x)\n",
    "        x = self.pool1(x)\n",
    "        x = self.conv2(x)\n",
    "        x = F.relu(x)\n",
    "        x = self.pool2(x)\n",
    "        x = x.view(-1, 4900)\n",
    "        x = self.linear1(x)\n",
    "        x = F.relu(x)\n",
    "        x = self.linear2(x)\n",
    "    \n",
    "        return x"
   ]
  },
  {
   "cell_type": "code",
   "execution_count": 24,
   "id": "4698ef5e",
   "metadata": {},
   "outputs": [
    {
     "name": "stdout",
     "output_type": "stream",
     "text": [
      "convnet_bw(\n",
      "  (conv1): Conv2d(1, 50, kernel_size=(3, 3), stride=(1, 1), padding=(1, 1))\n",
      "  (pool1): MaxPool2d(kernel_size=2, stride=2, padding=0, dilation=1, ceil_mode=False)\n",
      "  (conv2): Conv2d(50, 100, kernel_size=(3, 3), stride=(1, 1), padding=(1, 1))\n",
      "  (pool2): MaxPool2d(kernel_size=2, stride=2, padding=0, dilation=1, ceil_mode=False)\n",
      "  (linear1): Linear(in_features=4900, out_features=100, bias=True)\n",
      "  (linear2): Linear(in_features=100, out_features=2, bias=True)\n",
      ")\n"
     ]
    }
   ],
   "source": [
    "net=convnet_bw()\n",
    "print(net)\n",
    "criterion = nn.CrossEntropyLoss()\n",
    "my_lr=0.25 \n",
    "bs= 20"
   ]
  },
  {
   "cell_type": "code",
   "execution_count": 25,
   "id": "9c630a9e",
   "metadata": {},
   "outputs": [],
   "source": [
    "def get_error( scores , labels ):\n",
    "\n",
    "    bs=scores.size(0)\n",
    "    predicted_labels = scores.argmax(dim=1)\n",
    "    indicator = (predicted_labels == labels)\n",
    "    num_matches=indicator.sum()\n",
    "    \n",
    "    return 1-num_matches.float()/bs  "
   ]
  },
  {
   "cell_type": "code",
   "execution_count": 26,
   "id": "60bcac0a",
   "metadata": {},
   "outputs": [
    {
     "name": "stdout",
     "output_type": "stream",
     "text": [
      "epoch= 0 \t time= 0.09891424179077149 min \t lr= 0.25 \t loss= 0.6562244282176457 \t error= 39.378238280202446 percent\n",
      " \n",
      "epoch= 1 \t time= 0.19587635199228923 min \t lr= 0.25 \t loss= 0.6346996926890753 \t error= 36.86528486909027 percent\n",
      " \n",
      "epoch= 2 \t time= 0.29737677971522014 min \t lr= 0.25 \t loss= 0.6217288574097688 \t error= 34.48186541468368 percent\n",
      " \n",
      "epoch= 3 \t time= 0.39569318294525146 min \t lr= 0.25 \t loss= 0.6066072112229204 \t error= 33.31606233675863 percent\n",
      " \n",
      "epoch= 4 \t time= 0.502450184027354 min \t lr= 0.25 \t loss= 0.5883514840985827 \t error= 32.720207365065654 percent\n",
      " \n",
      "epoch= 5 \t time= 0.5934579292933146 min \t lr= 0.25 \t loss= 0.5738419998495072 \t error= 29.48186548880345 percent\n",
      " \n",
      "epoch= 6 \t time= 0.6834574540456136 min \t lr= 0.25 \t loss= 0.5398917236785197 \t error= 27.35751277424511 percent\n",
      " \n",
      "epoch= 7 \t time= 0.771706759929657 min \t lr= 0.25 \t loss= 0.4985937402038377 \t error= 24.896372846988815 percent\n",
      " \n",
      "epoch= 8 \t time= 0.8611282070477804 min \t lr= 0.25 \t loss= 0.43752050025321043 \t error= 20.72538866280274 percent\n",
      " \n",
      "epoch= 9 \t time= 0.9506272276242574 min \t lr= 0.25 \t loss= 0.3929732801691856 \t error= 18.601036133543815 percent\n",
      " \n",
      "epoch= 10 \t time= 1.0411296288172405 min \t lr= 0.25 \t loss= 0.31174568592575547 \t error= 13.808290235736829 percent\n",
      " \n",
      "epoch= 11 \t time= 1.1318982402483622 min \t lr= 0.25 \t loss= 0.25074034828904995 \t error= 10.259068012237549 percent\n",
      " \n",
      "epoch= 12 \t time= 1.2224580804506937 min \t lr= 0.25 \t loss= 0.18747550380353484 \t error= 7.5129539546571245 percent\n",
      " \n",
      "epoch= 13 \t time= 1.3149041453997294 min \t lr= 0.25 \t loss= 0.15281301456469792 \t error= 5.2331611282467225 percent\n",
      " \n",
      "epoch= 14 \t time= 1.4044577995936076 min \t lr= 0.25 \t loss= 0.14659239301564161 \t error= 5.4922286401758535 percent\n",
      " \n",
      "epoch= 15 \t time= 1.494212027390798 min \t lr= 0.25 \t loss= 0.10521281134925899 \t error= 3.704663786863416 percent\n",
      " \n",
      "epoch= 16 \t time= 1.5832594831784566 min \t lr= 0.25 \t loss= 0.09486279062145038 \t error= 3.1088087842872105 percent\n",
      " \n",
      "epoch= 17 \t time= 1.6750951091448465 min \t lr= 0.25 \t loss= 0.038830000617953955 \t error= 1.0880831609735835 percent\n",
      " \n",
      "epoch= 18 \t time= 1.7654548287391663 min \t lr= 0.25 \t loss= 0.08226760098327028 \t error= 2.590673976611597 percent\n",
      " \n",
      "epoch= 19 \t time= 1.857870670159658 min \t lr= 0.25 \t loss= 0.07114912615938189 \t error= 2.487047194199241 percent\n",
      " \n",
      "epoch= 20 \t time= 1.9482101559638978 min \t lr= 0.25 \t loss= 0.09177346108541606 \t error= 3.056995454847504 percent\n",
      " \n",
      "epoch= 21 \t time= 2.0399609327316286 min \t lr= 0.25 \t loss= 0.04552645390556819 \t error= 1.5544044539100765 percent\n",
      " \n",
      "epoch= 22 \t time= 2.128968683878581 min \t lr= 0.25 \t loss= 0.01620410019375771 \t error= 0.5181348385588493 percent\n",
      " \n",
      "epoch= 23 \t time= 2.2175384640693663 min \t lr= 0.25 \t loss= 0.004754026490384279 \t error= 0.12953370963971234 percent\n",
      " \n",
      "epoch= 24 \t time= 2.3092287381490073 min \t lr= 0.25 \t loss= 0.002944196830424474 \t error= 0.10362696771176985 percent\n",
      " \n",
      "epoch= 25 \t time= 2.400143285592397 min \t lr= 0.25 \t loss= 0.0026681157356939988 \t error= 0.10362696771176985 percent\n",
      " \n",
      "epoch= 26 \t time= 2.4885940194129943 min \t lr= 0.25 \t loss= 0.002250758128528616 \t error= 0.10362696771176985 percent\n",
      " \n",
      "epoch= 27 \t time= 2.577711768945058 min \t lr= 0.25 \t loss= 0.002159207557920739 \t error= 0.10362696771176985 percent\n",
      " \n",
      "epoch= 28 \t time= 2.668376819292704 min \t lr= 0.25 \t loss= 0.002013886432048496 \t error= 0.0777202257838274 percent\n",
      " \n",
      "epoch= 29 \t time= 2.757873324553172 min \t lr= 0.25 \t loss= 0.001977136691935585 \t error= 0.0777202257838274 percent\n",
      " \n"
     ]
    }
   ],
   "source": [
    "start=time.time()\n",
    "\n",
    "for epoch in range(30):\n",
    "        \n",
    "    optimizer=torch.optim.SGD( net.parameters() , lr=my_lr )\n",
    "        \n",
    "    running_loss=0\n",
    "    running_error=0\n",
    "    num_batches=0\n",
    "    \n",
    "    shuffled_indices=torch.randperm(3860)\n",
    " \n",
    "    for count in range(0,3860,bs):\n",
    "        \n",
    "        # FORWARD AND BACKWARD PASS\n",
    "    \n",
    "        optimizer.zero_grad()\n",
    "             \n",
    "        indices=shuffled_indices[count:count+bs]\n",
    "        minibatch_data =  train_data_bw[indices].unsqueeze(dim=1)\n",
    "        minibatch_label=  train_label_bw[indices]\n",
    "    \n",
    "        inputs = (minibatch_data - mean)/std      # ONLY CHANGE IS HERE!\n",
    "        \n",
    "        inputs.requires_grad_()\n",
    "\n",
    "        scores=net( inputs ) \n",
    "\n",
    "        loss =  criterion( scores , minibatch_label) \n",
    "          \n",
    "        loss.backward()\n",
    "        \n",
    "        optimizer.step()      \n",
    "        \n",
    "        running_loss += loss.detach().item()\n",
    "        \n",
    "        error = get_error( scores.detach() , minibatch_label)\n",
    "        running_error += error.item()\n",
    "        \n",
    "        num_batches+=1        \n",
    "    \n",
    "    \n",
    "    total_loss = running_loss/num_batches\n",
    "    total_error = running_error/num_batches\n",
    "    elapsed = (time.time()-start)/60\n",
    "    \n",
    "    print('epoch=',epoch, '\\t time=', elapsed,'min', '\\t lr=', my_lr  ,'\\t loss=', total_loss , '\\t error=', total_error*100 ,'percent')\n",
    "    print(' ')\n",
    "    "
   ]
  },
  {
   "cell_type": "code",
   "execution_count": 31,
   "id": "b590e724",
   "metadata": {},
   "outputs": [
    {
     "name": "stdout",
     "output_type": "stream",
     "text": [
      "Test error=40.936737060546875 percent\n"
     ]
    }
   ],
   "source": [
    "net.eval()\n",
    "with torch.no_grad():\n",
    "    data = test_data_bw.unsqueeze(dim=1)\n",
    "    labels = test_label_bw\n",
    "    scores = net(data) \n",
    "    print(\"Test error={} percent\".format(get_error(scores,labels)*100))"
   ]
  },
  {
   "cell_type": "code",
   "execution_count": 32,
   "id": "7b83576b",
   "metadata": {},
   "outputs": [
    {
     "name": "stdout",
     "output_type": "stream",
     "text": [
      "torch.Size([3860, 3, 28, 28]) torch.Size([3860])\n",
      "torch.Size([1645, 3, 28, 28]) torch.Size([1645])\n"
     ]
    }
   ],
   "source": [
    "train_data_color=torch.load(data_path+'training_data_color.pt').squeeze()\n",
    "train_label_color=torch.load(data_path+'training_labels_color.pt').squeeze()\n",
    "test_data_color=torch.load(data_path+'testing_data_color.pt').squeeze()\n",
    "test_label_color=torch.load(data_path+'testing_labels_color.pt').squeeze()\n",
    "\n",
    "print(train_data_color.size(), train_label_color.size())\n",
    "print(test_data_color.size(), test_label_color.size())"
   ]
  },
  {
   "cell_type": "code",
   "execution_count": 33,
   "id": "fc782d11",
   "metadata": {},
   "outputs": [
    {
     "name": "stdout",
     "output_type": "stream",
     "text": [
      "tensor(0.4060)\n",
      "tensor(0.2611)\n"
     ]
    }
   ],
   "source": [
    "mean= train_data_color.mean()\n",
    "print(mean)\n",
    "std= train_data_color.std()\n",
    "print(std)"
   ]
  },
  {
   "cell_type": "code",
   "execution_count": 34,
   "id": "4c709b60",
   "metadata": {},
   "outputs": [],
   "source": [
    "class convnet_color(nn.Module):\n",
    "\n",
    "    def __init__(self):\n",
    "\n",
    "        super(convnet_color, self).__init__()\n",
    "\n",
    "        self.conv1 = nn.Conv2d(3,   50,  kernel_size=3,  padding=1 )\n",
    "        \n",
    "        self.pool1  = nn.MaxPool2d(2,2)\n",
    "        \n",
    "        self.conv2 = nn.Conv2d(50,  100,  kernel_size=3,  padding=1 )\n",
    "        \n",
    "        self.pool2 = nn.MaxPool2d(2,2)\n",
    "        \n",
    "        self.linear1 = nn.Linear(4900, 100)\n",
    "        \n",
    "        self.linear2 = nn.Linear(100,2)\n",
    "\n",
    "\n",
    "    def forward(self, x):\n",
    "\n",
    "        x = self.conv1(x)\n",
    "        x = F.relu(x)\n",
    "        x = self.pool1(x)\n",
    "        x = self.conv2(x)\n",
    "        x = F.relu(x)\n",
    "        x = self.pool2(x)\n",
    "        x = x.view(-1, 4900)\n",
    "        x = self.linear1(x)\n",
    "        x = F.relu(x)\n",
    "        x = self.linear2(x)\n",
    "    \n",
    "        return x"
   ]
  },
  {
   "cell_type": "code",
   "execution_count": 37,
   "id": "15afc992",
   "metadata": {},
   "outputs": [
    {
     "name": "stdout",
     "output_type": "stream",
     "text": [
      "convnet_color(\n",
      "  (conv1): Conv2d(3, 50, kernel_size=(3, 3), stride=(1, 1), padding=(1, 1))\n",
      "  (pool1): MaxPool2d(kernel_size=2, stride=2, padding=0, dilation=1, ceil_mode=False)\n",
      "  (conv2): Conv2d(50, 100, kernel_size=(3, 3), stride=(1, 1), padding=(1, 1))\n",
      "  (pool2): MaxPool2d(kernel_size=2, stride=2, padding=0, dilation=1, ceil_mode=False)\n",
      "  (linear1): Linear(in_features=4900, out_features=100, bias=True)\n",
      "  (linear2): Linear(in_features=100, out_features=2, bias=True)\n",
      ")\n"
     ]
    }
   ],
   "source": [
    "net_color=convnet_color()\n",
    "print(net_color)\n",
    "criterion = nn.CrossEntropyLoss()\n",
    "my_lr=0.25 \n",
    "bs= 20"
   ]
  },
  {
   "cell_type": "code",
   "execution_count": 39,
   "id": "3e95a9d8",
   "metadata": {},
   "outputs": [
    {
     "name": "stdout",
     "output_type": "stream",
     "text": [
      "epoch= 0 \t time= 0.10254774490992229 min \t lr= 0.25 \t loss= 0.6581064099783724 \t error= 40.49222818310397 percent\n",
      " \n",
      "epoch= 1 \t time= 0.2047592600186666 min \t lr= 0.25 \t loss= 0.6273813693943419 \t error= 36.606217388044364 percent\n",
      " \n",
      "epoch= 2 \t time= 0.3191284974416097 min \t lr= 0.25 \t loss= 0.596043035465201 \t error= 34.404145034483676 percent\n",
      " \n",
      "epoch= 3 \t time= 0.42218162218729655 min \t lr= 0.25 \t loss= 0.5772449942450449 \t error= 31.217616672960585 percent\n",
      " \n",
      "epoch= 4 \t time= 0.5312346935272216 min \t lr= 0.25 \t loss= 0.5575364188054682 \t error= 30.336787663593196 percent\n",
      " \n",
      "epoch= 5 \t time= 0.6471272150675456 min \t lr= 0.25 \t loss= 0.5359665918998767 \t error= 29.352331686514027 percent\n",
      " \n",
      "epoch= 6 \t time= 0.7490355372428894 min \t lr= 0.25 \t loss= 0.507871785389327 \t error= 25.336787552413547 percent\n",
      " \n",
      "epoch= 7 \t time= 0.8537233710289002 min \t lr= 0.25 \t loss= 0.46856688542069547 \t error= 23.26424832171109 percent\n",
      " \n",
      "epoch= 8 \t time= 0.9613411029179891 min \t lr= 0.25 \t loss= 0.41196669043654605 \t error= 19.97409314689241 percent\n",
      " \n",
      "epoch= 9 \t time= 1.0750706911087036 min \t lr= 0.25 \t loss= 0.4091043706230549 \t error= 18.264248766429684 percent\n",
      " \n",
      "epoch= 10 \t time= 1.1878942012786866 min \t lr= 0.25 \t loss= 0.32177172828986855 \t error= 13.88601043063742 percent\n",
      " \n",
      "epoch= 11 \t time= 1.2976930697758993 min \t lr= 0.25 \t loss= 0.604037880067535 \t error= 14.093264458710667 percent\n",
      " \n",
      "epoch= 12 \t time= 1.4171738147735595 min \t lr= 0.25 \t loss= 0.43697477545145264 \t error= 19.663212367290043 percent\n",
      " \n",
      "epoch= 13 \t time= 1.523991870880127 min \t lr= 0.25 \t loss= 0.2940584127574078 \t error= 12.072539082462924 percent\n",
      " \n",
      "epoch= 14 \t time= 1.6302181084950764 min \t lr= 0.25 \t loss= 0.20683316214714642 \t error= 8.160622286673037 percent\n",
      " \n",
      "epoch= 15 \t time= 1.7366302291552225 min \t lr= 0.25 \t loss= 0.32781241063530425 \t error= 11.683938107959966 percent\n",
      " \n",
      "epoch= 16 \t time= 1.842912983894348 min \t lr= 0.25 \t loss= 0.1838855916643853 \t error= 7.046632630837396 percent\n",
      " \n",
      "epoch= 17 \t time= 1.9523329734802246 min \t lr= 0.25 \t loss= 0.189500837685743 \t error= 6.994819455813868 percent\n",
      " \n",
      "epoch= 18 \t time= 2.0607171177864076 min \t lr= 0.25 \t loss= 0.10569384905094657 \t error= 3.8082907236919503 percent\n",
      " \n",
      "epoch= 19 \t time= 2.173357033729553 min \t lr= 0.25 \t loss= 0.22203067228453804 \t error= 6.632124976172967 percent\n",
      " \n",
      "epoch= 20 \t time= 2.2818010091781615 min \t lr= 0.25 \t loss= 0.11873358047514228 \t error= 3.8860108877093062 percent\n",
      " \n",
      "epoch= 21 \t time= 2.376983920733134 min \t lr= 0.25 \t loss= 0.12173312579925834 \t error= 4.352332211529035 percent\n",
      " \n",
      "epoch= 22 \t time= 2.483635898431142 min \t lr= 0.25 \t loss= 0.10301024203340721 \t error= 3.4715031712784046 percent\n",
      " \n",
      "epoch= 23 \t time= 2.5821299076080324 min \t lr= 0.25 \t loss= 0.15750015081336827 \t error= 5.259067870174665 percent\n",
      " \n",
      "epoch= 24 \t time= 2.6772939642270406 min \t lr= 0.25 \t loss= 0.14008279019602396 \t error= 4.896373514066706 percent\n",
      " \n",
      "epoch= 25 \t time= 2.770965560277303 min \t lr= 0.25 \t loss= 0.06414107197271798 \t error= 1.6839382253162603 percent\n",
      " \n",
      "epoch= 26 \t time= 2.8670661648114524 min \t lr= 0.25 \t loss= 0.08781730114989625 \t error= 2.227979713153345 percent\n",
      " \n",
      "epoch= 27 \t time= 2.9676306009292603 min \t lr= 0.25 \t loss= 0.038356737711941785 \t error= 1.1398965521797615 percent\n",
      " \n",
      "epoch= 28 \t time= 3.0638585686683655 min \t lr= 0.25 \t loss= 0.07301794309587138 \t error= 2.2797932278924655 percent\n",
      " \n",
      "epoch= 29 \t time= 3.1648764928181965 min \t lr= 0.25 \t loss= nan \t error= 36.39896373056995 percent\n",
      " \n"
     ]
    }
   ],
   "source": [
    "start=time.time()\n",
    "\n",
    "for epoch in range(30):\n",
    "        \n",
    "    optimizer=torch.optim.SGD( net_color.parameters() , lr=my_lr )\n",
    "        \n",
    "    running_loss=0\n",
    "    running_error=0\n",
    "    num_batches=0\n",
    "    \n",
    "    shuffled_indices=torch.randperm(3860)\n",
    " \n",
    "    for count in range(0,3860,bs):\n",
    "        \n",
    "        # FORWARD AND BACKWARD PASS\n",
    "    \n",
    "        optimizer.zero_grad()\n",
    "             \n",
    "        indices=shuffled_indices[count:count+bs]\n",
    "        minibatch_data =  train_data_color[indices]\n",
    "        minibatch_label=  train_label_color[indices]\n",
    "    \n",
    "        inputs = (minibatch_data - mean)/std    \n",
    "        \n",
    "        inputs.requires_grad_()\n",
    "\n",
    "        scores=net_color( inputs ) \n",
    "\n",
    "        loss =  criterion( scores , minibatch_label) \n",
    "          \n",
    "        loss.backward()\n",
    "        \n",
    "        optimizer.step()      \n",
    "        \n",
    "        running_loss += loss.detach().item()\n",
    "        \n",
    "        error = get_error( scores.detach() , minibatch_label)\n",
    "        running_error += error.item()\n",
    "        \n",
    "        num_batches+=1        \n",
    "    \n",
    "    \n",
    "    total_loss = running_loss/num_batches\n",
    "    total_error = running_error/num_batches\n",
    "    elapsed = (time.time()-start)/60\n",
    "    \n",
    "    print('epoch=',epoch, '\\t time=', elapsed,'min', '\\t lr=', my_lr  ,'\\t loss=', total_loss , '\\t error=', total_error*100 ,'percent')\n",
    "    print(' ')\n",
    "    "
   ]
  },
  {
   "cell_type": "code",
   "execution_count": 41,
   "id": "55d3847e",
   "metadata": {},
   "outputs": [
    {
     "name": "stdout",
     "output_type": "stream",
     "text": [
      "Test error=39.878421783447266 percent\n"
     ]
    }
   ],
   "source": [
    "net_color.eval()\n",
    "with torch.no_grad():\n",
    "    data = test_data_color\n",
    "    labels = test_label_color\n",
    "    scores = net_color(data) \n",
    "    print(\"Test error={} percent\".format(get_error(scores,labels)*100))"
   ]
  }
 ],
 "metadata": {
  "kernelspec": {
   "display_name": "Python 3 (ipykernel)",
   "language": "python",
   "name": "python3"
  },
  "language_info": {
   "codemirror_mode": {
    "name": "ipython",
    "version": 3
   },
   "file_extension": ".py",
   "mimetype": "text/x-python",
   "name": "python",
   "nbconvert_exporter": "python",
   "pygments_lexer": "ipython3",
   "version": "3.7.10"
  }
 },
 "nbformat": 4,
 "nbformat_minor": 5
}
